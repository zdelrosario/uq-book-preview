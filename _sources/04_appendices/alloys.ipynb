{
 "cells": [
  {
   "cell_type": "markdown",
   "metadata": {},
   "source": [
    "(app-alloys)=\n",
    "# Alloy Datasets\n"
   ]
  },
  {
   "cell_type": "code",
   "execution_count": 1,
   "metadata": {
    "tags": [
     "remove-cell"
    ]
   },
   "outputs": [],
   "source": [
    "# Cell removed\n",
    "import grama as gr\n",
    "import plotnine as pt\n",
    "import numpy as np\n",
    "DF = gr.Intention()\n"
   ]
  },
  {
   "cell_type": "markdown",
   "metadata": {},
   "source": [
    "## Broader context: Material properties\n"
   ]
  },
  {
   "cell_type": "markdown",
   "metadata": {},
   "source": [
    "\n",
    "(app-al)=\n",
    "## Aluminum Alloys\n",
    "\n"
   ]
  },
  {
   "cell_type": "code",
   "execution_count": 5,
   "metadata": {},
   "outputs": [
    {
     "data": {
      "text/html": [
       "<div>\n",
       "<style scoped>\n",
       "    .dataframe tbody tr th:only-of-type {\n",
       "        vertical-align: middle;\n",
       "    }\n",
       "\n",
       "    .dataframe tbody tr th {\n",
       "        vertical-align: top;\n",
       "    }\n",
       "\n",
       "    .dataframe thead th {\n",
       "        text-align: right;\n",
       "    }\n",
       "</style>\n",
       "<table border=\"1\" class=\"dataframe\">\n",
       "  <thead>\n",
       "    <tr style=\"text-align: right;\">\n",
       "      <th></th>\n",
       "      <th>thick</th>\n",
       "      <th>alloy</th>\n",
       "      <th>E</th>\n",
       "      <th>mu</th>\n",
       "      <th>ang</th>\n",
       "    </tr>\n",
       "  </thead>\n",
       "  <tbody>\n",
       "    <tr>\n",
       "      <th>0</th>\n",
       "      <td>0.022</td>\n",
       "      <td>al_24st</td>\n",
       "      <td>10600</td>\n",
       "      <td>0.321</td>\n",
       "      <td>0</td>\n",
       "    </tr>\n",
       "    <tr>\n",
       "      <th>1</th>\n",
       "      <td>0.022</td>\n",
       "      <td>al_24st</td>\n",
       "      <td>10600</td>\n",
       "      <td>0.323</td>\n",
       "      <td>0</td>\n",
       "    </tr>\n",
       "    <tr>\n",
       "      <th>2</th>\n",
       "      <td>0.032</td>\n",
       "      <td>al_24st</td>\n",
       "      <td>10400</td>\n",
       "      <td>0.329</td>\n",
       "      <td>0</td>\n",
       "    </tr>\n",
       "    <tr>\n",
       "      <th>3</th>\n",
       "      <td>0.032</td>\n",
       "      <td>al_24st</td>\n",
       "      <td>10300</td>\n",
       "      <td>0.319</td>\n",
       "      <td>0</td>\n",
       "    </tr>\n",
       "    <tr>\n",
       "      <th>4</th>\n",
       "      <td>0.064</td>\n",
       "      <td>al_24st</td>\n",
       "      <td>10500</td>\n",
       "      <td>0.323</td>\n",
       "      <td>0</td>\n",
       "    </tr>\n",
       "    <tr>\n",
       "      <th>...</th>\n",
       "      <td>...</td>\n",
       "      <td>...</td>\n",
       "      <td>...</td>\n",
       "      <td>...</td>\n",
       "      <td>...</td>\n",
       "    </tr>\n",
       "    <tr>\n",
       "      <th>71</th>\n",
       "      <td>0.064</td>\n",
       "      <td>al_24st</td>\n",
       "      <td>10400</td>\n",
       "      <td>0.327</td>\n",
       "      <td>90</td>\n",
       "    </tr>\n",
       "    <tr>\n",
       "      <th>72</th>\n",
       "      <td>0.064</td>\n",
       "      <td>al_24st</td>\n",
       "      <td>10500</td>\n",
       "      <td>0.320</td>\n",
       "      <td>90</td>\n",
       "    </tr>\n",
       "    <tr>\n",
       "      <th>73</th>\n",
       "      <td>0.081</td>\n",
       "      <td>al_24st</td>\n",
       "      <td>9900</td>\n",
       "      <td>0.314</td>\n",
       "      <td>90</td>\n",
       "    </tr>\n",
       "    <tr>\n",
       "      <th>74</th>\n",
       "      <td>0.081</td>\n",
       "      <td>al_24st</td>\n",
       "      <td>10000</td>\n",
       "      <td>0.316</td>\n",
       "      <td>90</td>\n",
       "    </tr>\n",
       "    <tr>\n",
       "      <th>75</th>\n",
       "      <td>0.081</td>\n",
       "      <td>al_24st</td>\n",
       "      <td>9900</td>\n",
       "      <td>0.314</td>\n",
       "      <td>90</td>\n",
       "    </tr>\n",
       "  </tbody>\n",
       "</table>\n",
       "<p>76 rows × 5 columns</p>\n",
       "</div>"
      ],
      "text/plain": [
       "    thick     alloy      E     mu  ang\n",
       "0   0.022   al_24st  10600  0.321    0\n",
       "1   0.022   al_24st  10600  0.323    0\n",
       "2   0.032   al_24st  10400  0.329    0\n",
       "3   0.032   al_24st  10300  0.319    0\n",
       "4   0.064   al_24st  10500  0.323    0\n",
       "..    ...       ...    ...    ...  ...\n",
       "71  0.064   al_24st  10400  0.327   90\n",
       "72  0.064   al_24st  10500  0.320   90\n",
       "73  0.081   al_24st   9900  0.314   90\n",
       "74  0.081   al_24st  10000  0.316   90\n",
       "75  0.081   al_24st   9900  0.314   90\n",
       "\n",
       "[76 rows x 5 columns]"
      ]
     },
     "execution_count": 5,
     "metadata": {},
     "output_type": "execute_result"
    }
   ],
   "source": [
    "from grama.data import df_stang\n",
    "df_stang"
   ]
  },
  {
   "cell_type": "markdown",
   "metadata": {},
   "source": [
    "### Context"
   ]
  },
  {
   "cell_type": "code",
   "execution_count": 8,
   "metadata": {},
   "outputs": [
    {
     "name": "stderr",
     "output_type": "stream",
     "text": [
      "Warning: is_categorical is deprecated and will be removed in a future version.  Use is_categorical_dtype instead\n",
      "Warning: Using shapes for an ordinal variable is not advised.\n"
     ]
    },
    {
     "data": {
      "image/png": "[encoded data removed]",
      "text/plain": [
       "<Figure size 640x480 with 1 Axes>"
      ]
     },
     "metadata": {},
     "output_type": "display_data"
    },
    {
     "data": {
      "text/plain": [
       "<ggplot: (8766320771969)>"
      ]
     },
     "execution_count": 8,
     "metadata": {},
     "output_type": "execute_result"
    }
   ],
   "source": [
    "(\n",
    "    df_stang\n",
    "    >> gr.tf_mutate(thick=gr.as_factor(DF.thick))\n",
    "    >> pt.ggplot(pt.aes(\"E\", \"mu\"))\n",
    "    + pt.geom_point(pt.aes(shape=\"thick\"), size=2)\n",
    ")"
   ]
  },
  {
   "cell_type": "markdown",
   "metadata": {},
   "source": []
  },
  {
   "cell_type": "code",
   "execution_count": 9,
   "metadata": {},
   "outputs": [
    {
     "name": "stderr",
     "output_type": "stream",
     "text": [
      "Warning: is_categorical is deprecated and will be removed in a future version.  Use is_categorical_dtype instead\n",
      "Warning: Using shapes for an ordinal variable is not advised.\n"
     ]
    },
    {
     "data": {
      "image/png": "[encoded data removed]",
      "text/plain": [
       "<Figure size 640x480 with 1 Axes>"
      ]
     },
     "metadata": {},
     "output_type": "display_data"
    },
    {
     "data": {
      "text/plain": [
       "<ggplot: (8766320781789)>"
      ]
     },
     "execution_count": 9,
     "metadata": {},
     "output_type": "execute_result"
    }
   ],
   "source": [
    "(\n",
    "    df_stang\n",
    "    >> gr.tf_filter(DF.thick < 0.081)\n",
    "    >> gr.tf_mutate(thick=gr.as_factor(DF.thick))\n",
    "    >> pt.ggplot(pt.aes(\"E\", \"mu\"))\n",
    "    + pt.geom_point(pt.aes(shape=\"thick\"), size=2)\n",
    ")"
   ]
  },
  {
   "cell_type": "markdown",
   "metadata": {},
   "source": [
    "(app-steel)=\n",
    "## Steel Alloys\n"
   ]
  },
  {
   "cell_type": "code",
   "execution_count": 4,
   "metadata": {},
   "outputs": [
    {
     "data": {
      "text/html": [
       "<div>\n",
       "<style scoped>\n",
       "    .dataframe tbody tr th:only-of-type {\n",
       "        vertical-align: middle;\n",
       "    }\n",
       "\n",
       "    .dataframe tbody tr th {\n",
       "        vertical-align: top;\n",
       "    }\n",
       "\n",
       "    .dataframe thead th {\n",
       "        text-align: right;\n",
       "    }\n",
       "</style>\n",
       "<table border=\"1\" class=\"dataframe\">\n",
       "  <thead>\n",
       "    <tr style=\"text-align: right;\">\n",
       "      <th></th>\n",
       "      <th>part</th>\n",
       "      <th>TYS</th>\n",
       "      <th>TUS</th>\n",
       "      <th>thickness</th>\n",
       "    </tr>\n",
       "  </thead>\n",
       "  <tbody>\n",
       "    <tr>\n",
       "      <th>0</th>\n",
       "      <td>aa</td>\n",
       "      <td>157.0</td>\n",
       "      <td>164.7</td>\n",
       "      <td>0.485</td>\n",
       "    </tr>\n",
       "    <tr>\n",
       "      <th>1</th>\n",
       "      <td>ab</td>\n",
       "      <td>159.6</td>\n",
       "      <td>168.2</td>\n",
       "      <td>0.625</td>\n",
       "    </tr>\n",
       "    <tr>\n",
       "      <th>2</th>\n",
       "      <td>ac</td>\n",
       "      <td>155.6</td>\n",
       "      <td>165.4</td>\n",
       "      <td>0.625</td>\n",
       "    </tr>\n",
       "    <tr>\n",
       "      <th>3</th>\n",
       "      <td>ha</td>\n",
       "      <td>165.8</td>\n",
       "      <td>174.0</td>\n",
       "      <td>0.375</td>\n",
       "    </tr>\n",
       "    <tr>\n",
       "      <th>4</th>\n",
       "      <td>hb</td>\n",
       "      <td>157.4</td>\n",
       "      <td>163.8</td>\n",
       "      <td>1.000</td>\n",
       "    </tr>\n",
       "    <tr>\n",
       "      <th>5</th>\n",
       "      <td>hc</td>\n",
       "      <td>158.4</td>\n",
       "      <td>164.6</td>\n",
       "      <td>0.500</td>\n",
       "    </tr>\n",
       "    <tr>\n",
       "      <th>6</th>\n",
       "      <td>hd</td>\n",
       "      <td>157.6</td>\n",
       "      <td>167.3</td>\n",
       "      <td>0.150</td>\n",
       "    </tr>\n",
       "    <tr>\n",
       "      <th>7</th>\n",
       "      <td>ba</td>\n",
       "      <td>156.4</td>\n",
       "      <td>161.7</td>\n",
       "      <td>3.000</td>\n",
       "    </tr>\n",
       "    <tr>\n",
       "      <th>8</th>\n",
       "      <td>bb</td>\n",
       "      <td>157.7</td>\n",
       "      <td>162.7</td>\n",
       "      <td>3.000</td>\n",
       "    </tr>\n",
       "    <tr>\n",
       "      <th>9</th>\n",
       "      <td>ga</td>\n",
       "      <td>155.7</td>\n",
       "      <td>164.4</td>\n",
       "      <td>0.500</td>\n",
       "    </tr>\n",
       "    <tr>\n",
       "      <th>10</th>\n",
       "      <td>gb</td>\n",
       "      <td>158.8</td>\n",
       "      <td>163.6</td>\n",
       "      <td>0.500</td>\n",
       "    </tr>\n",
       "    <tr>\n",
       "      <th>11</th>\n",
       "      <td>gc</td>\n",
       "      <td>158.1</td>\n",
       "      <td>165.1</td>\n",
       "      <td>0.500</td>\n",
       "    </tr>\n",
       "    <tr>\n",
       "      <th>12</th>\n",
       "      <td>gd</td>\n",
       "      <td>157.0</td>\n",
       "      <td>165.8</td>\n",
       "      <td>0.500</td>\n",
       "    </tr>\n",
       "    <tr>\n",
       "      <th>13</th>\n",
       "      <td>ge</td>\n",
       "      <td>154.8</td>\n",
       "      <td>164.1</td>\n",
       "      <td>0.500</td>\n",
       "    </tr>\n",
       "    <tr>\n",
       "      <th>14</th>\n",
       "      <td>gf</td>\n",
       "      <td>156.1</td>\n",
       "      <td>163.2</td>\n",
       "      <td>0.375</td>\n",
       "    </tr>\n",
       "  </tbody>\n",
       "</table>\n",
       "</div>"
      ],
      "text/plain": [
       "   part    TYS    TUS  thickness\n",
       "0    aa  157.0  164.7      0.485\n",
       "1    ab  159.6  168.2      0.625\n",
       "2    ac  155.6  165.4      0.625\n",
       "3    ha  165.8  174.0      0.375\n",
       "4    hb  157.4  163.8      1.000\n",
       "5    hc  158.4  164.6      0.500\n",
       "6    hd  157.6  167.3      0.150\n",
       "7    ba  156.4  161.7      3.000\n",
       "8    bb  157.7  162.7      3.000\n",
       "9    ga  155.7  164.4      0.500\n",
       "10   gb  158.8  163.6      0.500\n",
       "11   gc  158.1  165.1      0.500\n",
       "12   gd  157.0  165.8      0.500\n",
       "13   ge  154.8  164.1      0.500\n",
       "14   gf  156.1  163.2      0.375"
      ]
     },
     "execution_count": 4,
     "metadata": {},
     "output_type": "execute_result"
    }
   ],
   "source": [
    "from grama.data import df_ruff\n",
    "df_ruff"
   ]
  }
 ],
 "metadata": {
  "kernelspec": {
   "display_name": "Python 3",
   "language": "python",
   "name": "python3"
  },
  "language_info": {
   "codemirror_mode": {
    "name": "ipython",
    "version": 3
   },
   "file_extension": ".py",
   "mimetype": "text/x-python",
   "name": "python",
   "nbconvert_exporter": "python",
   "pygments_lexer": "ipython3",
   "version": "3.7.4"
  }
 },
 "nbformat": 4,
 "nbformat_minor": 4
}
