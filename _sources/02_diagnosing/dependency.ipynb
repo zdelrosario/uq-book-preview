{
 "cells": [
  {
   "cell_type": "markdown",
   "id": "bcd3e8c2",
   "metadata": {},
   "source": [
    "(02-dependency)=\n",
    "# Multiple-uncertainties: Copulas\n"
   ]
  },
  {
   "cell_type": "code",
   "execution_count": 1,
   "id": "ee94b43f",
   "metadata": {
    "tags": [
     "remove-cell"
    ]
   },
   "outputs": [],
   "source": [
    "# Cell removed\n",
    "import grama as gr\n",
    "import plotnine as pt\n",
    "import numpy as np\n",
    "DF = gr.Intention()\n"
   ]
  },
  {
   "cell_type": "markdown",
   "id": "018937f8",
   "metadata": {},
   "source": []
  },
  {
   "cell_type": "code",
   "execution_count": 2,
   "id": "5b798116",
   "metadata": {},
   "outputs": [
    {
     "data": {
      "text/html": [
       "<div>\n",
       "<style scoped>\n",
       "    .dataframe tbody tr th:only-of-type {\n",
       "        vertical-align: middle;\n",
       "    }\n",
       "\n",
       "    .dataframe tbody tr th {\n",
       "        vertical-align: top;\n",
       "    }\n",
       "\n",
       "    .dataframe thead th {\n",
       "        text-align: right;\n",
       "    }\n",
       "</style>\n",
       "<table border=\"1\" class=\"dataframe\">\n",
       "  <thead>\n",
       "    <tr style=\"text-align: right;\">\n",
       "      <th></th>\n",
       "      <th>part</th>\n",
       "      <th>TYS</th>\n",
       "      <th>TUS</th>\n",
       "      <th>thickness</th>\n",
       "    </tr>\n",
       "  </thead>\n",
       "  <tbody>\n",
       "    <tr>\n",
       "      <th>0</th>\n",
       "      <td>aa</td>\n",
       "      <td>157.0</td>\n",
       "      <td>164.7</td>\n",
       "      <td>0.485</td>\n",
       "    </tr>\n",
       "    <tr>\n",
       "      <th>1</th>\n",
       "      <td>ab</td>\n",
       "      <td>159.6</td>\n",
       "      <td>168.2</td>\n",
       "      <td>0.625</td>\n",
       "    </tr>\n",
       "    <tr>\n",
       "      <th>2</th>\n",
       "      <td>ac</td>\n",
       "      <td>155.6</td>\n",
       "      <td>165.4</td>\n",
       "      <td>0.625</td>\n",
       "    </tr>\n",
       "    <tr>\n",
       "      <th>3</th>\n",
       "      <td>ha</td>\n",
       "      <td>165.8</td>\n",
       "      <td>174.0</td>\n",
       "      <td>0.375</td>\n",
       "    </tr>\n",
       "    <tr>\n",
       "      <th>4</th>\n",
       "      <td>hb</td>\n",
       "      <td>157.4</td>\n",
       "      <td>163.8</td>\n",
       "      <td>1.000</td>\n",
       "    </tr>\n",
       "    <tr>\n",
       "      <th>5</th>\n",
       "      <td>hc</td>\n",
       "      <td>158.4</td>\n",
       "      <td>164.6</td>\n",
       "      <td>0.500</td>\n",
       "    </tr>\n",
       "    <tr>\n",
       "      <th>6</th>\n",
       "      <td>hd</td>\n",
       "      <td>157.6</td>\n",
       "      <td>167.3</td>\n",
       "      <td>0.150</td>\n",
       "    </tr>\n",
       "    <tr>\n",
       "      <th>7</th>\n",
       "      <td>ba</td>\n",
       "      <td>156.4</td>\n",
       "      <td>161.7</td>\n",
       "      <td>3.000</td>\n",
       "    </tr>\n",
       "    <tr>\n",
       "      <th>8</th>\n",
       "      <td>bb</td>\n",
       "      <td>157.7</td>\n",
       "      <td>162.7</td>\n",
       "      <td>3.000</td>\n",
       "    </tr>\n",
       "    <tr>\n",
       "      <th>9</th>\n",
       "      <td>ga</td>\n",
       "      <td>155.7</td>\n",
       "      <td>164.4</td>\n",
       "      <td>0.500</td>\n",
       "    </tr>\n",
       "    <tr>\n",
       "      <th>10</th>\n",
       "      <td>gb</td>\n",
       "      <td>158.8</td>\n",
       "      <td>163.6</td>\n",
       "      <td>0.500</td>\n",
       "    </tr>\n",
       "    <tr>\n",
       "      <th>11</th>\n",
       "      <td>gc</td>\n",
       "      <td>158.1</td>\n",
       "      <td>165.1</td>\n",
       "      <td>0.500</td>\n",
       "    </tr>\n",
       "    <tr>\n",
       "      <th>12</th>\n",
       "      <td>gd</td>\n",
       "      <td>157.0</td>\n",
       "      <td>165.8</td>\n",
       "      <td>0.500</td>\n",
       "    </tr>\n",
       "    <tr>\n",
       "      <th>13</th>\n",
       "      <td>ge</td>\n",
       "      <td>154.8</td>\n",
       "      <td>164.1</td>\n",
       "      <td>0.500</td>\n",
       "    </tr>\n",
       "    <tr>\n",
       "      <th>14</th>\n",
       "      <td>gf</td>\n",
       "      <td>156.1</td>\n",
       "      <td>163.2</td>\n",
       "      <td>0.375</td>\n",
       "    </tr>\n",
       "  </tbody>\n",
       "</table>\n",
       "</div>"
      ],
      "text/plain": [
       "   part    TYS    TUS  thickness\n",
       "0    aa  157.0  164.7      0.485\n",
       "1    ab  159.6  168.2      0.625\n",
       "2    ac  155.6  165.4      0.625\n",
       "3    ha  165.8  174.0      0.375\n",
       "4    hb  157.4  163.8      1.000\n",
       "5    hc  158.4  164.6      0.500\n",
       "6    hd  157.6  167.3      0.150\n",
       "7    ba  156.4  161.7      3.000\n",
       "8    bb  157.7  162.7      3.000\n",
       "9    ga  155.7  164.4      0.500\n",
       "10   gb  158.8  163.6      0.500\n",
       "11   gc  158.1  165.1      0.500\n",
       "12   gd  157.0  165.8      0.500\n",
       "13   ge  154.8  164.1      0.500\n",
       "14   gf  156.1  163.2      0.375"
      ]
     },
     "execution_count": 2,
     "metadata": {},
     "output_type": "execute_result"
    }
   ],
   "source": [
    "from grama.data import df_ruff\n",
    "df_ruff\n"
   ]
  },
  {
   "cell_type": "markdown",
   "id": "f0534c37",
   "metadata": {},
   "source": []
  },
  {
   "cell_type": "code",
   "execution_count": 4,
   "id": "11aa6103",
   "metadata": {},
   "outputs": [
    {
     "data": {
      "image/png": "[encoded data removed]",
      "text/plain": [
       "<Figure size 640x480 with 1 Axes>"
      ]
     },
     "metadata": {
      "needs_background": "light"
     },
     "output_type": "display_data"
    },
    {
     "data": {
      "text/plain": [
       "<ggplot: (8767661385157)>"
      ]
     },
     "execution_count": 4,
     "metadata": {},
     "output_type": "execute_result"
    }
   ],
   "source": [
    "(\n",
    "    df_ruff\n",
    "    >> pt.ggplot(pt.aes(\"TYS\", \"TUS\"))\n",
    "    + pt.geom_abline(intercept=0, slope=1, linetype=\"dashed\")\n",
    "    + pt.geom_point()\n",
    "    + pt.theme_minimal()\n",
    ")"
   ]
  }
 ],
 "metadata": {
  "kernelspec": {
   "display_name": "Python 3 (ipykernel)",
   "language": "python",
   "name": "python3"
  },
  "language_info": {
   "codemirror_mode": {
    "name": "ipython",
    "version": 3
   },
   "file_extension": ".py",
   "mimetype": "text/x-python",
   "name": "python",
   "nbconvert_exporter": "python",
   "pygments_lexer": "ipython3",
   "version": "3.7.4"
  }
 },
 "nbformat": 4,
 "nbformat_minor": 5
}
