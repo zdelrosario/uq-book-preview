{
 "cells": [
  {
   "cell_type": "markdown",
   "metadata": {},
   "source": [
    "(02-marginals)=\n",
    "# Single-uncertainties: Marginal Distributions\n"
   ]
  },
  {
   "cell_type": "code",
   "execution_count": 1,
   "metadata": {
    "tags": [
     "remove-cell"
    ]
   },
   "outputs": [],
   "source": [
    "# Cell removed\n",
    "import grama as gr\n",
    "import plotnine as pt\n",
    "import numpy as np\n",
    "DF = gr.Intention()\n"
   ]
  },
  {
   "cell_type": "markdown",
   "metadata": {},
   "source": [
    "\n",
    "**Learning Objectives** In this chapter, you will learn\n",
    "\n",
    "- how to use an exploratory analysis to inform probability modeling\n",
    "- the importance of picking a distribution model\n",
    "- factors to consider in picking a distribution model\n",
    "\n",
    "(Key ideas to cover:)\n",
    "- how context should affect fitting\n",
    "- use exploratory analysis to gain insights\n",
    "- use data-to-model comparison to do sanity checks\n",
    "- distribution model dictates behavior in extrapolation\n",
    "  - testing a family, making conservative choices\n",
    "- physical principles -> bounds\n",
    "- tail weight?\n"
   ]
  },
  {
   "cell_type": "markdown",
   "metadata": {},
   "source": [
    "## Modeling a Parametric Uncertainty\n",
    "\n",
    "---\n",
    "\n",
    "Aim: Use a distribution to describe a [parametric uncertainty](02-uncertainty).\n"
   ]
  },
  {
   "cell_type": "markdown",
   "metadata": {},
   "source": [
    "### Why model an uncertain quantity?\n",
    "\n",
    "- Make our model assumptions explicit\n",
    "  - cf. below with summary statistics and implicit assumptions\n",
    "- Enable propagation\n",
    "- Enable inference\n"
   ]
  },
  {
   "cell_type": "markdown",
   "metadata": {},
   "source": [
    "### Follow the Modeling Process\n",
    "\n",
    "To model an uncertain quantity we follow the [modeling process](02-modeling-process). Below we highlight some of the particular considerations to modeling a parametric uncertainty.\n"
   ]
  },
  {
   "cell_type": "markdown",
   "metadata": {},
   "source": [
    "### Start with a modeling question\n",
    "\n",
    "As we saw at the [top of this chapter](02-distributions), we have two different modeling questions that we seek to answer: the *materials selection* question, and the *structural sizing* question.\n"
   ]
  },
  {
   "cell_type": "markdown",
   "metadata": {},
   "source": [
    "### Check the context\n",
    "\n",
    "The *materials selection* context will be followed-up with more detailed analysis later in the design process. Thus modeling should be detailed enough to compare materials and consider relevant factors, but not so detailed as to cause analysis paralysis. This means we need to model each material separately, but our distribution model can be relatively rough.\n",
    "\n",
    "In contrast, the *structural sizing* context will be the last step before finalizing design, and has direct impact on the safety of the structure. Modeling here must be detailed enough to confidently ensure the desired level of safety.\n"
   ]
  },
  {
   "cell_type": "markdown",
   "metadata": {},
   "source": [
    "### Gather appropriate information"
   ]
  },
  {
   "cell_type": "markdown",
   "metadata": {},
   "source": [
    "**Modeling using Facts**\n",
    "\n",
    "For *materials selection*, given that we only need a rough model, we can review supplier-provided data on material properties. If a supplier has used a rigorous process to characterize their supply, they should have both mean and variance information available. We can also request information on the sample size (number of tests) used to arrive at their data.\n",
    "\n",
    "With this mean and variance information in-hand, we can build a simple model for variability by *matching* the distribution parameters to these values. This leaves the selection of the distribution, which we must do using knowledge of the underlying phenomenon.\n"
   ]
  },
  {
   "cell_type": "markdown",
   "metadata": {},
   "source": [
    "*Distribution selection* To model the variability of material properties, we might be tempted to select a normal distribution. However, the normal distribution has infinite support, meaning it allows the possibility of positive and negative values regardless of its mean and variance. For material properties that tend to be distributed roughly symmetrically and have small variability, a normal model should be sufficient as a crude model.\n",
    "\n",
    "However, other material properties exhibit a great deal more asymmetry in their realized properties; for example, the realized strength of material will tend to be distributed asymmetrically (as we will see below). A \"weakest-link\" argument provides a theoretical basis for using the Weibull distribution to model material strength {cite}`weibull1939theory`, though a generalization of the Weibull distribution is used in the aircraft industry {cite}`MMPDS`, and the lognormal distribution is also occasionally used {cite}`delRosario2021pmi`.\n",
    "\n",
    "For the purposes of the *materials selection* context, it is more important to make a reasonable decision, rather than a perfect decision. For the purposes of comparing materials, and to take advantage of analytic tractability in a later stage of analysis, we will assume a lognormal distribution for material properties {cite}`delRosario2021pmi`.\n"
   ]
  },
  {
   "cell_type": "markdown",
   "metadata": {},
   "source": [
    "*Distribution parameters* TODO\n"
   ]
  },
  {
   "cell_type": "markdown",
   "metadata": {},
   "source": [
    "**Modeling using Data**\n",
    "\n",
    "For *structural sizing*, to develop values that are trustworthy for design, we must follow a more data-informed process. \n",
    "\n",
    "First, before extensive data collection, In manufacturing we must ensure that the material in question follows a published manufacturing standard[^standard], in order to ensure an acceptable level of consistency in the manufacture of components. \n",
    "\n",
    "Then, a sufficient quantity of data is gathered to understand the material variability. For instance, in aerospace design an absolute minimum of $n=100$ observations is required to be considered trustworthy {cite}`MMPDS`.\n",
    "\n",
    "Finally, we use a combination of the data and our knowledge of the underlying phenomenon to choose and fit a distribution. We will see a concrete example of this using materials data below.\n",
    "\n",
    "```{admonition} Shortcuts in aerospace design\n",
    "The data collection process above is very expensive! In the aerospace industry this cost is somewhat offset through an effective pooling of resources: The results of extensive metallic materials characterization are collected in *Metallic Materials Properties Development and Standardization* (MMPDS){cite}`MMPDS`, which provides *allowable* material properties used in design. While this approach has lead to safe aircraft in the past, there are known flaws with this \"allowable\" value approach, which we will see in a later chapter {cite}`zdr2021allowables`.\n",
    "```"
   ]
  },
  {
   "cell_type": "markdown",
   "metadata": {},
   "source": [
    "*Exploratory Data Analysis*\n",
    "\n",
    "Load the steel alloy dataset to illustrate. More information is available in the Appendix entry on the aluminum die castings TODO.\n"
   ]
  },
  {
   "cell_type": "code",
   "execution_count": 2,
   "metadata": {},
   "outputs": [
    {
     "data": {
      "text/html": [
       "<div>\n",
       "<style scoped>\n",
       "    .dataframe tbody tr th:only-of-type {\n",
       "        vertical-align: middle;\n",
       "    }\n",
       "\n",
       "    .dataframe tbody tr th {\n",
       "        vertical-align: top;\n",
       "    }\n",
       "\n",
       "    .dataframe thead th {\n",
       "        text-align: right;\n",
       "    }\n",
       "</style>\n",
       "<table border=\"1\" class=\"dataframe\">\n",
       "  <thead>\n",
       "    <tr style=\"text-align: right;\">\n",
       "      <th></th>\n",
       "      <th>specimen</th>\n",
       "      <th>tensile_strength</th>\n",
       "      <th>hardness</th>\n",
       "      <th>density</th>\n",
       "    </tr>\n",
       "  </thead>\n",
       "  <tbody>\n",
       "    <tr>\n",
       "      <th>0</th>\n",
       "      <td>1</td>\n",
       "      <td>29314</td>\n",
       "      <td>53.0</td>\n",
       "      <td>2.666</td>\n",
       "    </tr>\n",
       "    <tr>\n",
       "      <th>1</th>\n",
       "      <td>2</td>\n",
       "      <td>34860</td>\n",
       "      <td>70.2</td>\n",
       "      <td>2.708</td>\n",
       "    </tr>\n",
       "    <tr>\n",
       "      <th>2</th>\n",
       "      <td>3</td>\n",
       "      <td>36818</td>\n",
       "      <td>84.3</td>\n",
       "      <td>2.865</td>\n",
       "    </tr>\n",
       "    <tr>\n",
       "      <th>3</th>\n",
       "      <td>4</td>\n",
       "      <td>30120</td>\n",
       "      <td>55.3</td>\n",
       "      <td>2.627</td>\n",
       "    </tr>\n",
       "    <tr>\n",
       "      <th>4</th>\n",
       "      <td>5</td>\n",
       "      <td>34020</td>\n",
       "      <td>78.5</td>\n",
       "      <td>2.581</td>\n",
       "    </tr>\n",
       "  </tbody>\n",
       "</table>\n",
       "</div>"
      ],
      "text/plain": [
       "   specimen  tensile_strength  hardness  density\n",
       "0         1             29314      53.0    2.666\n",
       "1         2             34860      70.2    2.708\n",
       "2         3             36818      84.3    2.865\n",
       "3         4             30120      55.3    2.627\n",
       "4         5             34020      78.5    2.581"
      ]
     },
     "execution_count": 2,
     "metadata": {},
     "output_type": "execute_result"
    }
   ],
   "source": [
    "from grama.data import df_shewhart\n",
    "df_shewhart.head()\n"
   ]
  },
  {
   "cell_type": "markdown",
   "metadata": {},
   "source": [
    "Basic facts\n"
   ]
  },
  {
   "cell_type": "code",
   "execution_count": 3,
   "metadata": {},
   "outputs": [
    {
     "data": {
      "text/html": [
       "<div>\n",
       "<style scoped>\n",
       "    .dataframe tbody tr th:only-of-type {\n",
       "        vertical-align: middle;\n",
       "    }\n",
       "\n",
       "    .dataframe tbody tr th {\n",
       "        vertical-align: top;\n",
       "    }\n",
       "\n",
       "    .dataframe thead th {\n",
       "        text-align: right;\n",
       "    }\n",
       "</style>\n",
       "<table border=\"1\" class=\"dataframe\">\n",
       "  <thead>\n",
       "    <tr style=\"text-align: right;\">\n",
       "      <th></th>\n",
       "      <th>T_mean</th>\n",
       "      <th>T_sd</th>\n",
       "      <th>T_skew</th>\n",
       "      <th>T_kurt</th>\n",
       "      <th>T_cov</th>\n",
       "    </tr>\n",
       "  </thead>\n",
       "  <tbody>\n",
       "    <tr>\n",
       "      <th>0</th>\n",
       "      <td>31869.366667</td>\n",
       "      <td>3996.380795</td>\n",
       "      <td>0.099848</td>\n",
       "      <td>2.605644</td>\n",
       "      <td>0.125399</td>\n",
       "    </tr>\n",
       "  </tbody>\n",
       "</table>\n",
       "</div>"
      ],
      "text/plain": [
       "         T_mean         T_sd    T_skew    T_kurt     T_cov\n",
       "0  31869.366667  3996.380795  0.099848  2.605644  0.125399"
      ]
     },
     "execution_count": 3,
     "metadata": {},
     "output_type": "execute_result"
    }
   ],
   "source": [
    "(\n",
    "    df_shewhart\n",
    "    >> gr.tf_summarize(\n",
    "        T_mean=gr.mean(DF.tensile_strength),\n",
    "        T_sd=gr.sd(DF.tensile_strength),\n",
    "        T_skew=gr.skew(DF.tensile_strength),\n",
    "        T_kurt=gr.kurt(DF.tensile_strength),\n",
    "    )\n",
    "    >> gr.tf_mutate(\n",
    "        T_cov=DF.T_sd / DF.T_mean\n",
    "    )\n",
    ")"
   ]
  },
  {
   "cell_type": "markdown",
   "metadata": {},
   "source": []
  },
  {
   "cell_type": "markdown",
   "metadata": {},
   "source": [
    "A histogram gives us a visual sense of shape for the data\n"
   ]
  },
  {
   "cell_type": "code",
   "execution_count": 4,
   "metadata": {},
   "outputs": [
    {
     "name": "stderr",
     "output_type": "stream",
     "text": [
      "/Users/zach/opt/anaconda3/lib/python3.7/site-packages/plotnine/stats/stat_bin.py:95: PlotnineWarning: 'stat_bin()' using 'bins = 7'. Pick better value with 'binwidth'.\n"
     ]
    },
    {
     "data": {
      "image/png": "[encoded data removed]",
      "text/plain": [
       "<Figure size 640x480 with 1 Axes>"
      ]
     },
     "metadata": {
      "needs_background": "light"
     },
     "output_type": "display_data"
    },
    {
     "data": {
      "text/plain": [
       "<ggplot: (8793141783417)>"
      ]
     },
     "execution_count": 4,
     "metadata": {},
     "output_type": "execute_result"
    }
   ],
   "source": [
    "(\n",
    "    df_shewhart\n",
    "    >> pt.ggplot(pt.aes(\"tensile_strength\"))\n",
    "    + pt.geom_histogram()\n",
    "    + pt.theme_minimal()\n",
    "    + pt.labs(x=\"Tensile Strength (psi)\", y=\"Count (-)\")\n",
    ")"
   ]
  },
  {
   "cell_type": "markdown",
   "metadata": {},
   "source": [
    "*Observations*:\n",
    "- broad distribution, centered around 32500 psi\n",
    "\n",
    "As described in the [Appendix on Exploratory Data Analysis](app-eda), rule 1 of histograms is \"play with the bin size\"."
   ]
  },
  {
   "cell_type": "code",
   "execution_count": 5,
   "metadata": {},
   "outputs": [
    {
     "ename": "NameError",
     "evalue": "name 'df_ruff' is not defined",
     "output_type": "error",
     "traceback": [
      "\u001b[0;31m---------------------------------------------------------------------------\u001b[0m",
      "\u001b[0;31mNameError\u001b[0m                                 Traceback (most recent call last)",
      "\u001b[0;32m/var/folders/xv/k5cp232j1cn3y8kym53_nnkc0000gn/T/ipykernel_68071/3707619748.py\u001b[0m in \u001b[0;36m<module>\u001b[0;34m\u001b[0m\n\u001b[1;32m      1\u001b[0m (\n\u001b[0;32m----> 2\u001b[0;31m     \u001b[0mdf_ruff\u001b[0m\u001b[0;34m\u001b[0m\u001b[0;34m\u001b[0m\u001b[0m\n\u001b[0m\u001b[1;32m      3\u001b[0m     \u001b[0;34m>>\u001b[0m \u001b[0mpt\u001b[0m\u001b[0;34m.\u001b[0m\u001b[0mggplot\u001b[0m\u001b[0;34m(\u001b[0m\u001b[0mpt\u001b[0m\u001b[0;34m.\u001b[0m\u001b[0maes\u001b[0m\u001b[0;34m(\u001b[0m\u001b[0;34m\"TYS\"\u001b[0m\u001b[0;34m)\u001b[0m\u001b[0;34m)\u001b[0m\u001b[0;34m\u001b[0m\u001b[0;34m\u001b[0m\u001b[0m\n\u001b[1;32m      4\u001b[0m     \u001b[0;34m+\u001b[0m \u001b[0mpt\u001b[0m\u001b[0;34m.\u001b[0m\u001b[0mgeom_histogram\u001b[0m\u001b[0;34m(\u001b[0m\u001b[0mbins\u001b[0m\u001b[0;34m=\u001b[0m\u001b[0;36m20\u001b[0m\u001b[0;34m)\u001b[0m\u001b[0;34m\u001b[0m\u001b[0;34m\u001b[0m\u001b[0m\n\u001b[1;32m      5\u001b[0m     \u001b[0;34m+\u001b[0m \u001b[0mpt\u001b[0m\u001b[0;34m.\u001b[0m\u001b[0mtheme_minimal\u001b[0m\u001b[0;34m(\u001b[0m\u001b[0;34m)\u001b[0m\u001b[0;34m\u001b[0m\u001b[0;34m\u001b[0m\u001b[0m\n",
      "\u001b[0;31mNameError\u001b[0m: name 'df_ruff' is not defined"
     ]
    }
   ],
   "source": [
    "(\n",
    "    df_ruff\n",
    "    >> pt.ggplot(pt.aes(\"TYS\"))\n",
    "    + pt.geom_histogram(bins=20)\n",
    "    + pt.theme_minimal()\n",
    ")"
   ]
  },
  {
   "cell_type": "markdown",
   "metadata": {},
   "source": [
    "The finer-grained histogram maintains the features we say above\n",
    "- concentration still near 158 ksi\n",
    "- still just one outlier at a much-larger value\n"
   ]
  },
  {
   "cell_type": "markdown",
   "metadata": {},
   "source": [
    "TODO What does this tell us about building the model?\n"
   ]
  },
  {
   "cell_type": "markdown",
   "metadata": {},
   "source": [
    "### Build the model\n"
   ]
  },
  {
   "cell_type": "markdown",
   "metadata": {},
   "source": [
    "*Materials Selection*\n"
   ]
  },
  {
   "cell_type": "markdown",
   "metadata": {},
   "source": [
    "*Structural Sizing*\n"
   ]
  },
  {
   "cell_type": "code",
   "execution_count": null,
   "metadata": {},
   "outputs": [],
   "source": [
    "mg_gengamma = gr.marg_named(df_ruff.TYS, \"gengamma\")\n"
   ]
  },
  {
   "cell_type": "markdown",
   "metadata": {},
   "source": [
    "### Assess the model\n"
   ]
  },
  {
   "cell_type": "markdown",
   "metadata": {},
   "source": [
    "Summaries make implicit modeling assumptions\n"
   ]
  },
  {
   "cell_type": "code",
   "execution_count": null,
   "metadata": {},
   "outputs": [],
   "source": [
    "mg = gr.marg_named(df_ruff.TYS, \"norm\")\n",
    "## TODO: Add a string representation to marginals, to simplify printing\n",
    "print(mg.d_name, mg.d_param)\n"
   ]
  },
  {
   "cell_type": "markdown",
   "metadata": {},
   "source": [
    "The normal distribution has only two parameters: `loc` (the mean) and `scale` (the standard deviation). However, not all distributions are described by just two parameters.\n"
   ]
  },
  {
   "cell_type": "code",
   "execution_count": null,
   "metadata": {},
   "outputs": [],
   "source": [
    "mg = gr.marg_named(df_ruff.TYS, \"weibull_min\")\n",
    "## TODO: Add a string representation to marginals, to simplify printing\n",
    "print(mg.d_name, mg.d_param)\n"
   ]
  },
  {
   "cell_type": "markdown",
   "metadata": {},
   "source": [
    "The weibull distribution comes in a three-parameter form, with an additional \"shape\" parameter `c`.\n"
   ]
  },
  {
   "cell_type": "markdown",
   "metadata": {},
   "source": [
    "Summary statistics are **not** model-free; we're actually making modeling choices when we choose to report a limited set of numbers. For instance, when we report a mean and variance alone we are not implying a *specific* shape, but we are implying that those two values alone are sufficient to describe the data. A multi-modal distribution would not be well-described using a single mean, even with a variance.\n",
    "\n",
    "As a concrete counterexample, the following synthetic dataset would be *very poorly* described using a mean and variance alone.\n"
   ]
  },
  {
   "cell_type": "code",
   "execution_count": null,
   "metadata": {},
   "outputs": [],
   "source": [
    "(\n",
    "    gr.df_make(X=np.random.normal(size=100, loc=-2))\n",
    "    >> gr.tf_bind_rows(\n",
    "        gr.df_make(X=np.random.normal(size=100, loc=+2))\n",
    "    )\n",
    "    \n",
    "    >> pt.ggplot(pt.aes(\"X\"))\n",
    "    + pt.geom_histogram(bins=30)\n",
    ")"
   ]
  },
  {
   "cell_type": "markdown",
   "metadata": {},
   "source": [
    "Here, we would be better off reporting two location parameters---one for each mode---and some measure of the spread. The underlying mean of the full dataset (around zero) is not a sufficient description of these data.\n"
   ]
  },
  {
   "cell_type": "markdown",
   "metadata": {},
   "source": [
    "Compare different modeling assumptions\n"
   ]
  },
  {
   "cell_type": "code",
   "execution_count": null,
   "metadata": {},
   "outputs": [],
   "source": [
    "mg_norm = gr.marg_named(df_ruff.TYS, \"norm\")\n",
    "mg_gengamma = gr.marg_named(df_ruff.TYS, \"gengamma\")\n",
    "mg_lognorm = gr.marg_named(df_ruff.TYS, \"lognorm\")\n",
    "\n",
    "X = np.linspace(150, 170)\n",
    "l_norm = list(map(mg_norm.l, X))\n",
    "l_lognorm = list(map(mg_lognorm.l, X))\n",
    "l_gengamma = list(map(mg_gengamma.l, X))\n",
    "\n",
    "(\n",
    "    gr.df_make(\n",
    "        TYS=X,\n",
    "        l_norm=l_norm,\n",
    "        l_lognorm=l_lognorm,\n",
    "        l_gengamma=l_gengamma,\n",
    "    )\n",
    "    >> gr.tf_pivot_longer(\n",
    "        columns=[\"l_norm\", \"l_lognorm\", \"l_gengamma\"],\n",
    "        names_to=[\".value\", \"fit\"],\n",
    "        names_sep=\"_\",\n",
    "        values_to=\"foo\",\n",
    "    )\n",
    "    \n",
    "    >> pt.ggplot(pt.aes(\"TYS\", \"l\", color=\"fit\"))\n",
    "    + pt.geom_line()\n",
    ")"
   ]
  },
  {
   "cell_type": "markdown",
   "metadata": {},
   "source": [
    "Note that the `norm` model will tend to produce more conservative design estimates.\n"
   ]
  },
  {
   "cell_type": "code",
   "execution_count": null,
   "metadata": {},
   "outputs": [],
   "source": [
    "print(\"norm quantile:     {0:2.1f}\".format(mg_norm.q(0.01)))\n",
    "print(\"lognorm quantile:  {0:2.1f}\".format(mg_lognorm.q(0.01)))\n",
    "print(\"gengamma quantile: {0:2.1f}\".format(mg_gengamma.q(0.01)))\n"
   ]
  },
  {
   "cell_type": "markdown",
   "metadata": {},
   "source": [
    "### Use the model\n",
    "\n",
    "(Some examples of work with parametric uncertainties: propagation and inference)\n"
   ]
  },
  {
   "cell_type": "markdown",
   "metadata": {},
   "source": [
    "### Limited Data\n",
    "\n",
    "Text preview of Estimation chapter.\n"
   ]
  },
  {
   "cell_type": "markdown",
   "metadata": {},
   "source": [
    "## Use the model\n",
    "\n",
    "---\n",
    "\n",
    "Why would we ever fit a distribution?\n"
   ]
  },
  {
   "cell_type": "markdown",
   "metadata": {},
   "source": [
    "### Estimate probabilities\n",
    "\n",
    "\n"
   ]
  },
  {
   "cell_type": "code",
   "execution_count": null,
   "metadata": {},
   "outputs": [],
   "source": [
    "(\n",
    "    df_ruff\n",
    "    >> gr.tf_summarize(pof=gr.mean(DF.TYS <= 155))\n",
    ")"
   ]
  },
  {
   "cell_type": "markdown",
   "metadata": {},
   "source": [
    "However, lower critical values will be poorly estimated\n"
   ]
  },
  {
   "cell_type": "code",
   "execution_count": null,
   "metadata": {},
   "outputs": [],
   "source": [
    "(\n",
    "    df_ruff\n",
    "    >> gr.tf_summarize(pof=gr.mean(DF.TYS <= 150))\n",
    ")\n"
   ]
  },
  {
   "cell_type": "markdown",
   "metadata": {},
   "source": [
    "With a model we can extrapolate to lower critical values\n"
   ]
  },
  {
   "cell_type": "code",
   "execution_count": null,
   "metadata": {},
   "outputs": [],
   "source": [
    "## Fit model\n",
    "md_ruff = (\n",
    "    gr.Model(\"Model for TYS\")\n",
    "    >> gr.cp_marginals(TYS=gr.marg_named(df_ruff.TYS, \"norm\"))\n",
    "    >> gr.cp_copula_independence()\n",
    ")\n",
    "print(md_ruff)\n",
    "\n",
    "## Simulate and estimate probability\n",
    "(\n",
    "    md_ruff\n",
    "    >> gr.ev_monte_carlo(n=1e4, df_det=\"nom\", seed=101, skip=True)\n",
    "    >> gr.tf_summarize(pof=gr.mean(DF.TYS < 150))\n",
    ")"
   ]
  },
  {
   "cell_type": "markdown",
   "metadata": {},
   "source": [
    "This gives a small---but nonzero---estimate for the probability of failure.\n"
   ]
  },
  {
   "cell_type": "markdown",
   "metadata": {},
   "source": [
    "### Perform inference\n",
    "\n",
    "**TODO** We'll see this in the third section on Estimation.\n"
   ]
  },
  {
   "cell_type": "markdown",
   "metadata": {},
   "source": [
    "[^standards]: For instance, in aerospace engineering metals must be covered by a published manufacturing standard, pursuant to MMPDS-04, Ch. 9.2 {cite}`MMPDS`. Composites must also be covered by a published standard, pursuant to CMH Vol 3, Sec. 4.4.3.5 {cite}`cmh-17-3g`.\n"
   ]
  }
 ],
 "metadata": {
  "kernelspec": {
   "display_name": "Python 3 (ipykernel)",
   "language": "python",
   "name": "python3"
  },
  "language_info": {
   "codemirror_mode": {
    "name": "ipython",
    "version": 3
   },
   "file_extension": ".py",
   "mimetype": "text/x-python",
   "name": "python",
   "nbconvert_exporter": "python",
   "pygments_lexer": "ipython3",
   "version": "3.7.4"
  }
 },
 "nbformat": 4,
 "nbformat_minor": 4
}
